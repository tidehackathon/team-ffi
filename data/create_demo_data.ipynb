{
 "cells": [
  {
   "attachments": {},
   "cell_type": "markdown",
   "metadata": {},
   "source": [
    "This notebooks takes 50 known samples of misinformation from the dataset, and 100 random samples, to create a demo dataset that contains about 33% misinformation"
   ]
  },
  {
   "cell_type": "code",
   "execution_count": 1,
   "metadata": {},
   "outputs": [],
   "source": [
    "import pandas as pd\n",
    "datapath = \"/filserver/tide-hackaton/datasets/Disinformation-challenge-data/twitter/twitter_combined_df.pickle\"\n",
    "data = pd.read_pickle(datapath)"
   ]
  },
  {
   "cell_type": "code",
   "execution_count": 28,
   "metadata": {},
   "outputs": [],
   "source": [
    "misinfo_ids = []\n",
    "with open(\"/filserver/tide-hackaton/datasets/Disinformation-challenge-data/twitter/misinformation.txt\") as f:\n",
    "    strs = f.read().split('\\n')\n",
    "    for id in strs:\n",
    "        misinfo_ids.append(int(id))\n",
    "\n"
   ]
  },
  {
   "cell_type": "code",
   "execution_count": 30,
   "metadata": {},
   "outputs": [
    {
     "name": "stderr",
     "output_type": "stream",
     "text": [
      "/tmp/ipykernel_766378/671835629.py:3: SettingWithCopyWarning: \n",
      "A value is trying to be set on a copy of a slice from a DataFrame.\n",
      "Try using .loc[row_indexer,col_indexer] = value instead\n",
      "\n",
      "See the caveats in the documentation: https://pandas.pydata.org/pandas-docs/stable/user_guide/indexing.html#returning-a-view-versus-a-copy\n",
      "  misinfo_subset[\"misinfo\"] = 1\n"
     ]
    }
   ],
   "source": [
    "misinfo_subset = data[data[\"id\"].isin(misinfo_ids)]\n",
    "\n",
    "misinfo_subset[\"misinfo\"] = 1"
   ]
  },
  {
   "cell_type": "code",
   "execution_count": 33,
   "metadata": {},
   "outputs": [],
   "source": [
    "random_subset = data.sample(100)\n",
    "\n",
    "random_subset[\"misinfo\"] = 0"
   ]
  },
  {
   "cell_type": "code",
   "execution_count": 34,
   "metadata": {},
   "outputs": [],
   "source": [
    "demo_dataset = pd.concat([random_subset,misinfo_subset])"
   ]
  },
  {
   "cell_type": "code",
   "execution_count": 35,
   "metadata": {},
   "outputs": [],
   "source": [
    "#shuffle\n",
    "demo_dataset = demo_dataset.sample(frac=1)"
   ]
  },
  {
   "cell_type": "code",
   "execution_count": 37,
   "metadata": {},
   "outputs": [],
   "source": [
    "demo_dataset.to_csv(\"/filserver/tide-hackaton/datasets/Disinformation-challenge-data/twitter/demo_dataset.csv\")"
   ]
  }
 ],
 "metadata": {
  "kernelspec": {
   "display_name": "MLApp",
   "language": "python",
   "name": "python3"
  },
  "language_info": {
   "codemirror_mode": {
    "name": "ipython",
    "version": 3
   },
   "file_extension": ".py",
   "mimetype": "text/x-python",
   "name": "python",
   "nbconvert_exporter": "python",
   "pygments_lexer": "ipython3",
   "version": "3.10.9"
  },
  "orig_nbformat": 4,
  "vscode": {
   "interpreter": {
    "hash": "4f4ff3e79c037b9bf9496d3f129a46f1e5259600b954a420d661d6768b88e0d3"
   }
  }
 },
 "nbformat": 4,
 "nbformat_minor": 2
}
