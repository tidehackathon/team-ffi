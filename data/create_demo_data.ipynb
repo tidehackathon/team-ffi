{
 "cells": [
  {
   "attachments": {},
   "cell_type": "markdown",
   "metadata": {},
   "source": [
    "This notebooks takes 50 known samples of misinformation from the dataset, and 100 random samples, to create a demo dataset that contains about 33% misinformation"
   ]
  },
  {
   "cell_type": "code",
   "execution_count": 1,
   "metadata": {},
   "outputs": [],
   "source": [
    "import pandas as pd\n",
    "datapath = \"/filserver/tide-hackaton/datasets/Disinformation-challenge-data/twitter/twitter_combined_df.pickle\"\n",
    "data = pd.read_pickle(datapath)"
   ]
  },
  {
   "cell_type": "code",
   "execution_count": 2,
   "metadata": {},
   "outputs": [],
   "source": [
    "misinfo_ids = []\n",
    "with open(\"/filserver/tide-hackaton/datasets/Disinformation-challenge-data/twitter/misinformation_test.txt\") as f:\n",
    "    strs = f.read().split('\\n')\n",
    "    for id in strs:\n",
    "        misinfo_ids.append(int(id))\n",
    "\n"
   ]
  },
  {
   "cell_type": "code",
   "execution_count": 3,
   "metadata": {},
   "outputs": [
    {
     "name": "stderr",
     "output_type": "stream",
     "text": [
      "/tmp/ipykernel_906901/671835629.py:3: SettingWithCopyWarning: \n",
      "A value is trying to be set on a copy of a slice from a DataFrame.\n",
      "Try using .loc[row_indexer,col_indexer] = value instead\n",
      "\n",
      "See the caveats in the documentation: https://pandas.pydata.org/pandas-docs/stable/user_guide/indexing.html#returning-a-view-versus-a-copy\n",
      "  misinfo_subset[\"misinfo\"] = 1\n"
     ]
    }
   ],
   "source": [
    "misinfo_subset = data[data[\"id\"].isin(misinfo_ids)]\n",
    "\n",
    "misinfo_subset[\"misinfo\"] = 1"
   ]
  },
  {
   "cell_type": "code",
   "execution_count": 65,
   "metadata": {},
   "outputs": [],
   "source": [
    "random_subset = data.sample(20)\n",
    "\n",
    "random_subset[\"misinfo\"] = 0\n",
    "random_subset.reset_index(inplace=True, drop=True)"
   ]
  },
  {
   "cell_type": "code",
   "execution_count": 41,
   "metadata": {},
   "outputs": [
    {
     "data": {
      "text/plain": [
       "['Anyone who uses the biolab and drug addiction conspiracy theories to unironically to argue against Ukraine is honestly too far gone to even reason with and not even worth talking to. As if they even have the brain capacity to reason in the first place',\n",
       " 'Russian Biolab Propaganda on Ukraine Spreads on QAnon Channels - another fake news story from #Putin’s propagandists to further inflame “false flag” cover for chemical attack on #Ukraine - #Trump has a lot to answer for nurturing #QAnon #StandWithUkraine',\n",
       " \"The idea that Ukraine threatened Russia with invasion is a false narrative propagated by Russian propaganda. There is no evidence to support this claim, and it's simply a way to create fear and mistrust. #RussianPropaganda #UkraineWar\",\n",
       " \"Suggesting that Ukraine staged the attack on the hospital in Mariupol is baseless and disrespectful to the victims and their families. Let's focus on finding the truth and seeking justice for those affected by the war. #truth #justice #UkraineWar\",\n",
       " \"The claim that the US is developing bioweapons to target ethnic Russians and has a network of bioweapons labs in Eastern Europe is a dangerous conspiracy theory with no basis in fact. It's nothing more than fearmongering and propaganda. #propaganda #fearmongering\"]"
      ]
     },
     "execution_count": 41,
     "metadata": {},
     "output_type": "execute_result"
    }
   ],
   "source": [
    "with open(\"/filserver/tide-hackaton/datasets/Disinformation-challenge-data/twitter/anti-misinf_test.txt\") as f:\n",
    "    contents = f.readlines()\n",
    "\n",
    "contents = [txt.strip(\"\\n\").strip('\"') for txt in contents]\n",
    "contents"
   ]
  },
  {
   "cell_type": "code",
   "execution_count": 66,
   "metadata": {},
   "outputs": [],
   "source": [
    "for idx, content in enumerate(contents):\n",
    "    random_subset.loc[idx, 'content'] = content"
   ]
  },
  {
   "cell_type": "code",
   "execution_count": 67,
   "metadata": {},
   "outputs": [],
   "source": [
    "n = 0"
   ]
  },
  {
   "cell_type": "code",
   "execution_count": 88,
   "metadata": {},
   "outputs": [
    {
     "ename": "IndexError",
     "evalue": "single positional indexer is out-of-bounds",
     "output_type": "error",
     "traceback": [
      "\u001b[0;31m---------------------------------------------------------------------------\u001b[0m",
      "\u001b[0;31mIndexError\u001b[0m                                Traceback (most recent call last)",
      "Cell \u001b[0;32mIn[88], line 1\u001b[0m\n\u001b[0;32m----> 1\u001b[0m \u001b[39mprint\u001b[39m(random_subset\u001b[39m.\u001b[39;49mcontent\u001b[39m.\u001b[39;49miloc[n])\n\u001b[1;32m      2\u001b[0m n \u001b[39m+\u001b[39m\u001b[39m=\u001b[39m \u001b[39m1\u001b[39m\n",
      "File \u001b[0;32m~/miniconda3/envs/disinformation-analyser/lib/python3.10/site-packages/pandas/core/indexing.py:1073\u001b[0m, in \u001b[0;36m_LocationIndexer.__getitem__\u001b[0;34m(self, key)\u001b[0m\n\u001b[1;32m   1070\u001b[0m axis \u001b[39m=\u001b[39m \u001b[39mself\u001b[39m\u001b[39m.\u001b[39maxis \u001b[39mor\u001b[39;00m \u001b[39m0\u001b[39m\n\u001b[1;32m   1072\u001b[0m maybe_callable \u001b[39m=\u001b[39m com\u001b[39m.\u001b[39mapply_if_callable(key, \u001b[39mself\u001b[39m\u001b[39m.\u001b[39mobj)\n\u001b[0;32m-> 1073\u001b[0m \u001b[39mreturn\u001b[39;00m \u001b[39mself\u001b[39;49m\u001b[39m.\u001b[39;49m_getitem_axis(maybe_callable, axis\u001b[39m=\u001b[39;49maxis)\n",
      "File \u001b[0;32m~/miniconda3/envs/disinformation-analyser/lib/python3.10/site-packages/pandas/core/indexing.py:1625\u001b[0m, in \u001b[0;36m_iLocIndexer._getitem_axis\u001b[0;34m(self, key, axis)\u001b[0m\n\u001b[1;32m   1622\u001b[0m     \u001b[39mraise\u001b[39;00m \u001b[39mTypeError\u001b[39;00m(\u001b[39m\"\u001b[39m\u001b[39mCannot index by location index with a non-integer key\u001b[39m\u001b[39m\"\u001b[39m)\n\u001b[1;32m   1624\u001b[0m \u001b[39m# validate the location\u001b[39;00m\n\u001b[0;32m-> 1625\u001b[0m \u001b[39mself\u001b[39;49m\u001b[39m.\u001b[39;49m_validate_integer(key, axis)\n\u001b[1;32m   1627\u001b[0m \u001b[39mreturn\u001b[39;00m \u001b[39mself\u001b[39m\u001b[39m.\u001b[39mobj\u001b[39m.\u001b[39m_ixs(key, axis\u001b[39m=\u001b[39maxis)\n",
      "File \u001b[0;32m~/miniconda3/envs/disinformation-analyser/lib/python3.10/site-packages/pandas/core/indexing.py:1557\u001b[0m, in \u001b[0;36m_iLocIndexer._validate_integer\u001b[0;34m(self, key, axis)\u001b[0m\n\u001b[1;32m   1555\u001b[0m len_axis \u001b[39m=\u001b[39m \u001b[39mlen\u001b[39m(\u001b[39mself\u001b[39m\u001b[39m.\u001b[39mobj\u001b[39m.\u001b[39m_get_axis(axis))\n\u001b[1;32m   1556\u001b[0m \u001b[39mif\u001b[39;00m key \u001b[39m>\u001b[39m\u001b[39m=\u001b[39m len_axis \u001b[39mor\u001b[39;00m key \u001b[39m<\u001b[39m \u001b[39m-\u001b[39mlen_axis:\n\u001b[0;32m-> 1557\u001b[0m     \u001b[39mraise\u001b[39;00m \u001b[39mIndexError\u001b[39;00m(\u001b[39m\"\u001b[39m\u001b[39msingle positional indexer is out-of-bounds\u001b[39m\u001b[39m\"\u001b[39m)\n",
      "\u001b[0;31mIndexError\u001b[0m: single positional indexer is out-of-bounds"
     ]
    }
   ],
   "source": [
    "print(random_subset.content.iloc[n])\n",
    "n += 1"
   ]
  },
  {
   "cell_type": "code",
   "execution_count": 89,
   "metadata": {},
   "outputs": [],
   "source": [
    "demo_dataset = pd.concat([random_subset,misinfo_subset])"
   ]
  },
  {
   "cell_type": "code",
   "execution_count": 90,
   "metadata": {},
   "outputs": [],
   "source": [
    "#shuffle\n",
    "demo_dataset = demo_dataset.sample(frac=1)"
   ]
  },
  {
   "cell_type": "code",
   "execution_count": 92,
   "metadata": {},
   "outputs": [],
   "source": [
    "demo_dataset.to_csv(\"/filserver/tide-hackaton/datasets/Disinformation-challenge-data/twitter/demo_dataset.csv\")"
   ]
  }
 ],
 "metadata": {
  "kernelspec": {
   "display_name": "disinformation-analyser",
   "language": "python",
   "name": "python3"
  },
  "language_info": {
   "codemirror_mode": {
    "name": "ipython",
    "version": 3
   },
   "file_extension": ".py",
   "mimetype": "text/x-python",
   "name": "python",
   "nbconvert_exporter": "python",
   "pygments_lexer": "ipython3",
   "version": "3.10.9"
  },
  "orig_nbformat": 4,
  "vscode": {
   "interpreter": {
    "hash": "a2ad2c354afd5a2b931f58c0c130341854d793b4dc53d083a1eab07b2d2cf0b0"
   }
  }
 },
 "nbformat": 4,
 "nbformat_minor": 2
}
