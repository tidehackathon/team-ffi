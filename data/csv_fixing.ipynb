{
 "cells": [
  {
   "attachments": {},
   "cell_type": "markdown",
   "metadata": {},
   "source": [
    "# Pandas"
   ]
  },
  {
   "cell_type": "code",
   "execution_count": null,
   "metadata": {},
   "outputs": [],
   "source": [
    "import pandas as pd"
   ]
  },
  {
   "cell_type": "code",
   "execution_count": null,
   "metadata": {},
   "outputs": [],
   "source": [
    "df = pd.read_csv(\"/filserver/tide-hackaton/datasets/Disinformation-challenge-data/russian_invasion_of_ukraine.csv\")\n",
    "# df = pd.read_csv(\"/filserver/tide-hackaton/datasets/Disinformation-challenge-data_fixed/Ukraine_war_truncated.csv\")\n",
    "display(df)"
   ]
  },
  {
   "cell_type": "code",
   "execution_count": null,
   "metadata": {},
   "outputs": [],
   "source": [
    "df[df[\"url\"]==\"https://twitter.com/TigerKnowz/status/1487169138296512512\"]"
   ]
  },
  {
   "cell_type": "code",
   "execution_count": null,
   "metadata": {},
   "outputs": [],
   "source": []
  },
  {
   "cell_type": "code",
   "execution_count": null,
   "metadata": {},
   "outputs": [],
   "source": [
    "with open(\"/filserver/tide-hackaton/datasets/Disinformation-challenge-data2/Ukraine_war.csv\", \"r\") as f:\n",
    "    text = f.read()"
   ]
  },
  {
   "cell_type": "code",
   "execution_count": null,
   "metadata": {},
   "outputs": [],
   "source": [
    "for i in range(len(text)-1, -1, -1):\n",
    "    if text[i] != \"\\x00\":\n",
    "        print(i + 1)\n",
    "        break"
   ]
  },
  {
   "cell_type": "code",
   "execution_count": null,
   "metadata": {},
   "outputs": [],
   "source": [
    "text.rfind(\"snscrape.modules.twitter.Tweet,\")"
   ]
  },
  {
   "cell_type": "code",
   "execution_count": null,
   "metadata": {},
   "outputs": [],
   "source": [
    "print(len(text))\n",
    "slutt = 382468092 \n",
    "print(slutt)\n",
    "print(list(text[slutt - 8:slutt]))\n",
    "print(text[slutt - 4000:slutt])\n",
    "\n",
    "print()\n",
    "print(text[slutt:slutt+1000])\n"
   ]
  },
  {
   "cell_type": "code",
   "execution_count": null,
   "metadata": {},
   "outputs": [],
   "source": []
  },
  {
   "cell_type": "code",
   "execution_count": null,
   "metadata": {},
   "outputs": [],
   "source": [
    "with open(\"/filserver/tide-hackaton/datasets/Disinformation-challenge-data_fixed/Ukraine_war_truncated.csv\", \"w\") as f:\n",
    "    f.write(text[:slutt])"
   ]
  },
  {
   "cell_type": "code",
   "execution_count": null,
   "metadata": {},
   "outputs": [],
   "source": [
    "with open(\"/filserver/tide-hackaton/datasets/Disinformation-challenge-data_fixed/Ukraine_border_truncated.csv\", \"w\") as f:\n",
    "    new_content = text_lines[:]\n",
    "    display(new_content[-2:])\n",
    "    f.write(\"\".join(new_content))\n"
   ]
  },
  {
   "attachments": {},
   "cell_type": "markdown",
   "metadata": {},
   "source": [
    "# Combine csvs"
   ]
  },
  {
   "cell_type": "code",
   "execution_count": null,
   "metadata": {},
   "outputs": [],
   "source": [
    "import os"
   ]
  },
  {
   "cell_type": "code",
   "execution_count": null,
   "metadata": {},
   "outputs": [],
   "source": [
    "from tqdm import tqdm\n",
    "from pathlib import Path"
   ]
  },
  {
   "cell_type": "code",
   "execution_count": null,
   "metadata": {},
   "outputs": [],
   "source": [
    "root_path = Path(\"/filserver/tide-hackaton/datasets/Disinformation-challenge-data/\")\n",
    "# to_be_combined = os.listdir(root_path)\n",
    "to_be_combined = [\n",
    "    # 'Guardians_Russia_Ukraine.csv',\n",
    "    # 'NYT_Russia_Ukraine.csv',\n",
    "    'Russian_border_Ukraine.csv',\n",
    "    # 'russian_invasion_of_ukraine.csv',\n",
    "    'Russian_troops.csv',\n",
    "    'Russia_invade_fixed.csv',\n",
    "    'StandWithUkraine_fixed.csv',\n",
    "    'Ukraine_border_fixed.csv',\n",
    "    'Ukraine_nato.csv',\n",
    "    'Ukraine_nato_fixed.csv',\n",
    "    'Ukraine_troops_fixed.csv',\n",
    "    'Ukraine_war_fixed.csv'\n",
    "]\n",
    "display(to_be_combined)"
   ]
  },
  {
   "cell_type": "code",
   "execution_count": null,
   "metadata": {},
   "outputs": [],
   "source": [
    "dataframes = [pd.read_csv(root_path / df_path) for df_path in tqdm(to_be_combined)]\n",
    "\n",
    "combined_df = pd.concat(dataframes)\n",
    "display(combined_df)"
   ]
  },
  {
   "cell_type": "code",
   "execution_count": null,
   "metadata": {},
   "outputs": [],
   "source": [
    "combined_df.to_pickle(\"/data/tide-hackaton/twitter_data/twitter_combined_df.pickle\")"
   ]
  },
  {
   "cell_type": "code",
   "execution_count": null,
   "metadata": {},
   "outputs": [],
   "source": [
    "# list(combined_df[\"id\"])\n",
    "from collections import defaultdict\n",
    "\n",
    "id_counts = defaultdict(int)\n",
    "\n",
    "for id in combined_df[\"id\"]:\n",
    "    id_counts[id] += 1\n",
    "\n",
    "tmp = pd.DataFrame({\"id\": id_counts.keys(), \"count\": id_counts.values()})"
   ]
  },
  {
   "cell_type": "code",
   "execution_count": null,
   "metadata": {},
   "outputs": [],
   "source": [
    "display(tmp.sort_values(by=\"count\", ascending=False))"
   ]
  },
  {
   "cell_type": "code",
   "execution_count": null,
   "metadata": {},
   "outputs": [],
   "source": [
    "tmp[\"count\"].sum()"
   ]
  },
  {
   "cell_type": "code",
   "execution_count": null,
   "metadata": {},
   "outputs": [],
   "source": [
    "combined_df[combined_df[\"id\"]==1491837486594727937][\"content\"].iloc[0]"
   ]
  },
  {
   "cell_type": "code",
   "execution_count": null,
   "metadata": {},
   "outputs": [],
   "source": [
    "combined_df_deduplicated = combined_df.drop_duplicates(subset=\"id\")"
   ]
  },
  {
   "cell_type": "code",
   "execution_count": null,
   "metadata": {},
   "outputs": [],
   "source": [
    "display(combined_df_deduplicated)"
   ]
  },
  {
   "cell_type": "code",
   "execution_count": null,
   "metadata": {},
   "outputs": [],
   "source": [
    "combined_df_deduplicated.to_pickle(\"/data/tide-hackaton/twitter_data/twitter_combined_df_deduplicated.pickle\")"
   ]
  }
 ],
 "metadata": {
  "kernelspec": {
   "display_name": "tide",
   "language": "python",
   "name": "python3"
  },
  "language_info": {
   "codemirror_mode": {
    "name": "ipython",
    "version": 3
   },
   "file_extension": ".py",
   "mimetype": "text/x-python",
   "name": "python",
   "nbconvert_exporter": "python",
   "pygments_lexer": "ipython3",
   "version": "3.10.9"
  },
  "orig_nbformat": 4,
  "vscode": {
   "interpreter": {
    "hash": "6374e214c1c56ad04cd59cdf1c4b1219c1808ba446ed842edb52843d8c978dc1"
   }
  }
 },
 "nbformat": 4,
 "nbformat_minor": 2
}
